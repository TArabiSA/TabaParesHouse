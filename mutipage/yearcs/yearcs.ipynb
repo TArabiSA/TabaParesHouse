{
  "cells": [
    {
      "cell_type": "code",
      "execution_count": 158,
      "metadata": {
        "id": "N0m8TwwbO6I1"
      },
      "outputs": [],
      "source": [
        "import math\n",
        "import numpy as np\n",
        "import pandas as pd\n",
        "import matplotlib.pyplot as plt"
      ]
    },
    {
      "cell_type": "code",
      "execution_count": 159,
      "metadata": {
        "id": "Mk7Mgx3HSQic"
      },
      "outputs": [],
      "source": [
        "df = pd.read_csv('C:/Users/yakul/mutipage/data/year.csv')"
      ]
    },
    {
      "cell_type": "code",
      "execution_count": 160,
      "metadata": {
        "colab": {
          "base_uri": "https://localhost:8080/",
          "height": 551
        },
        "id": "4UV_rpuAVGH-",
        "outputId": "4f017549-3580-4ea5-8a29-d655e336d833"
      },
      "outputs": [
        {
          "data": {
            "text/html": [
              "<div>\n",
              "<style scoped>\n",
              "    .dataframe tbody tr th:only-of-type {\n",
              "        vertical-align: middle;\n",
              "    }\n",
              "\n",
              "    .dataframe tbody tr th {\n",
              "        vertical-align: top;\n",
              "    }\n",
              "\n",
              "    .dataframe thead th {\n",
              "        text-align: right;\n",
              "    }\n",
              "</style>\n",
              "<table border=\"1\" class=\"dataframe\">\n",
              "  <thead>\n",
              "    <tr style=\"text-align: right;\">\n",
              "      <th></th>\n",
              "      <th>Date</th>\n",
              "      <th>Sale</th>\n",
              "    </tr>\n",
              "  </thead>\n",
              "  <tbody>\n",
              "    <tr>\n",
              "      <th>0</th>\n",
              "      <td>31-Dec-07</td>\n",
              "      <td>1285000</td>\n",
              "    </tr>\n",
              "    <tr>\n",
              "      <th>1</th>\n",
              "      <td>31-Dec-08</td>\n",
              "      <td>1360000</td>\n",
              "    </tr>\n",
              "    <tr>\n",
              "      <th>2</th>\n",
              "      <td>31-Dec-09</td>\n",
              "      <td>1320000</td>\n",
              "    </tr>\n",
              "    <tr>\n",
              "      <th>3</th>\n",
              "      <td>31-Dec-10</td>\n",
              "      <td>1450060</td>\n",
              "    </tr>\n",
              "    <tr>\n",
              "      <th>4</th>\n",
              "      <td>31-Dec-11</td>\n",
              "      <td>1315200</td>\n",
              "    </tr>\n",
              "    <tr>\n",
              "      <th>5</th>\n",
              "      <td>31-Dec-12</td>\n",
              "      <td>1545000</td>\n",
              "    </tr>\n",
              "    <tr>\n",
              "      <th>6</th>\n",
              "      <td>31-Dec-13</td>\n",
              "      <td>1356700</td>\n",
              "    </tr>\n",
              "    <tr>\n",
              "      <th>7</th>\n",
              "      <td>31-Dec-14</td>\n",
              "      <td>1435850</td>\n",
              "    </tr>\n",
              "    <tr>\n",
              "      <th>8</th>\n",
              "      <td>31-Dec-15</td>\n",
              "      <td>1456280</td>\n",
              "    </tr>\n",
              "    <tr>\n",
              "      <th>9</th>\n",
              "      <td>31-Dec-16</td>\n",
              "      <td>1405800</td>\n",
              "    </tr>\n",
              "    <tr>\n",
              "      <th>10</th>\n",
              "      <td>31-Dec-17</td>\n",
              "      <td>1394500</td>\n",
              "    </tr>\n",
              "    <tr>\n",
              "      <th>11</th>\n",
              "      <td>31-Dec-18</td>\n",
              "      <td>1356000</td>\n",
              "    </tr>\n",
              "    <tr>\n",
              "      <th>12</th>\n",
              "      <td>31-Dec-19</td>\n",
              "      <td>1762300</td>\n",
              "    </tr>\n",
              "    <tr>\n",
              "      <th>13</th>\n",
              "      <td>31-Dec-20</td>\n",
              "      <td>1815275</td>\n",
              "    </tr>\n",
              "    <tr>\n",
              "      <th>14</th>\n",
              "      <td>31-Dec-21</td>\n",
              "      <td>1883770</td>\n",
              "    </tr>\n",
              "  </tbody>\n",
              "</table>\n",
              "</div>"
            ],
            "text/plain": [
              "         Date     Sale\n",
              "0   31-Dec-07  1285000\n",
              "1   31-Dec-08  1360000\n",
              "2   31-Dec-09  1320000\n",
              "3   31-Dec-10  1450060\n",
              "4   31-Dec-11  1315200\n",
              "5   31-Dec-12  1545000\n",
              "6   31-Dec-13  1356700\n",
              "7   31-Dec-14  1435850\n",
              "8   31-Dec-15  1456280\n",
              "9   31-Dec-16  1405800\n",
              "10  31-Dec-17  1394500\n",
              "11  31-Dec-18  1356000\n",
              "12  31-Dec-19  1762300\n",
              "13  31-Dec-20  1815275\n",
              "14  31-Dec-21  1883770"
            ]
          },
          "execution_count": 160,
          "metadata": {},
          "output_type": "execute_result"
        }
      ],
      "source": [
        "df\n"
      ]
    },
    {
      "cell_type": "code",
      "execution_count": 161,
      "metadata": {
        "colab": {
          "base_uri": "https://localhost:8080/"
        },
        "id": "y69R5bMwVKOa",
        "outputId": "061066cd-49bf-43db-91dc-060d83c449b3"
      },
      "outputs": [
        {
          "data": {
            "text/plain": [
              "(15, 2)"
            ]
          },
          "execution_count": 161,
          "metadata": {},
          "output_type": "execute_result"
        }
      ],
      "source": [
        "df.shape"
      ]
    },
    {
      "cell_type": "code",
      "execution_count": 162,
      "metadata": {
        "colab": {
          "base_uri": "https://localhost:8080/",
          "height": 436
        },
        "id": "jrshlMTBVRZU",
        "outputId": "fb984f84-b911-4735-fb85-6bcc4f979cfd"
      },
      "outputs": [
        {
          "data": {
            "image/png": "[encoded data removed]",
            "text/plain": [
              "<Figure size 864x432 with 1 Axes>"
            ]
          },
          "metadata": {
            "needs_background": "light"
          },
          "output_type": "display_data"
        }
      ],
      "source": [
        "plt.figure(figsize=(12,6))\n",
        "plt.title('Sale Price History')\n",
        "plt.plot(df['Sale'])\n",
        "plt.xlabel('Date', fontsize = 12)\n",
        "plt.ylabel('Sale Price PESO(₱)', fontsize = 12)\n",
        "plt.show()"
      ]
    },
    {
      "cell_type": "code",
      "execution_count": 163,
      "metadata": {
        "colab": {
          "base_uri": "https://localhost:8080/"
        },
        "id": "pCT3-QoXWk85",
        "outputId": "f10c3024-ecc2-4034-e4dc-ac22912f179b"
      },
      "outputs": [
        {
          "data": {
            "text/plain": [
              "11"
            ]
          },
          "execution_count": 163,
          "metadata": {},
          "output_type": "execute_result"
        }
      ],
      "source": [
        "data = df.filter(['Sale'])\n",
        "dataset = data.values\n",
        "training_data_len = math.ceil( len(dataset) * .7)\n",
        "training_data_len"
      ]
    },
    {
      "cell_type": "code",
      "execution_count": 164,
      "metadata": {},
      "outputs": [
        {
          "data": {
            "text/plain": [
              "0              NaN\n",
              "1              NaN\n",
              "2     1.321667e+06\n",
              "3     1.376687e+06\n",
              "4     1.361753e+06\n",
              "5     1.436753e+06\n",
              "6     1.405633e+06\n",
              "7     1.445850e+06\n",
              "8     1.416277e+06\n",
              "9     1.432643e+06\n",
              "10    1.418860e+06\n",
              "11    1.385433e+06\n",
              "12    1.504267e+06\n",
              "13    1.644525e+06\n",
              "14    1.820448e+06\n",
              "Name: Sale, dtype: float64"
            ]
          },
          "execution_count": 164,
          "metadata": {},
          "output_type": "execute_result"
        }
      ],
      "source": [
        "ma3 = df.Sale.rolling(3).mean()\n",
        "ma3"
      ]
    },
    {
      "cell_type": "code",
      "execution_count": 165,
      "metadata": {},
      "outputs": [
        {
          "data": {
            "text/plain": [
              "[<matplotlib.lines.Line2D at 0x18593da00a0>]"
            ]
          },
          "execution_count": 165,
          "metadata": {},
          "output_type": "execute_result"
        },
        {
          "data": {
            "image/png": "[encoded data removed]",
            "text/plain": [
              "<Figure size 864x432 with 1 Axes>"
            ]
          },
          "metadata": {
            "needs_background": "light"
          },
          "output_type": "display_data"
        }
      ],
      "source": [
        "\n",
        "plt.figure(figsize = (12,6))\n",
        "plt.plot(df.Sale)\n",
        "plt.plot(ma3, \"r\")"
      ]
    },
    {
      "cell_type": "code",
      "execution_count": 166,
      "metadata": {},
      "outputs": [
        {
          "data": {
            "text/plain": [
              "0              NaN\n",
              "1              NaN\n",
              "2              NaN\n",
              "3              NaN\n",
              "4              NaN\n",
              "5     1.379210e+06\n",
              "6     1.391160e+06\n",
              "7     1.403802e+06\n",
              "8     1.426515e+06\n",
              "9     1.419138e+06\n",
              "10    1.432355e+06\n",
              "11    1.400855e+06\n",
              "12    1.468455e+06\n",
              "13    1.531692e+06\n",
              "14    1.602941e+06\n",
              "Name: Sale, dtype: float64"
            ]
          },
          "execution_count": 166,
          "metadata": {},
          "output_type": "execute_result"
        }
      ],
      "source": [
        "ma6 = df.Sale.rolling(6).mean()\n",
        "ma6"
      ]
    },
    {
      "cell_type": "code",
      "execution_count": 167,
      "metadata": {},
      "outputs": [
        {
          "data": {
            "text/plain": [
              "[<matplotlib.lines.Line2D at 0x185913616c0>]"
            ]
          },
          "execution_count": 167,
          "metadata": {},
          "output_type": "execute_result"
        },
        {
          "data": {
            "image/png": "[encoded data removed]",
            "text/plain": [
              "<Figure size 864x432 with 1 Axes>"
            ]
          },
          "metadata": {
            "needs_background": "light"
          },
          "output_type": "display_data"
        }
      ],
      "source": [
        "\n",
        "plt.figure(figsize = (12,6))\n",
        "plt.plot(df.Sale)\n",
        "plt.plot(ma3, \"r\")\n",
        "plt.plot(ma6)"
      ]
    },
    {
      "cell_type": "code",
      "execution_count": 168,
      "metadata": {
        "colab": {
          "base_uri": "https://localhost:8080/"
        },
        "id": "0lzNLUePXUhm",
        "outputId": "4fef06cb-89b4-47da-b5a1-87da94bf60b2"
      },
      "outputs": [
        {
          "data": {
            "text/plain": [
              "array([[0.        ],\n",
              "       [0.12525678],\n",
              "       [0.05845316],\n",
              "       [0.27566511],\n",
              "       [0.05043673],\n",
              "       [0.43422349],\n",
              "       [0.11974548],\n",
              "       [0.25193313],\n",
              "       [0.28605308],\n",
              "       [0.20174691],\n",
              "       [0.18287489],\n",
              "       [0.11857641],\n",
              "       [0.79713412],\n",
              "       [0.88560716],\n",
              "       [1.        ]])"
            ]
          },
          "execution_count": 168,
          "metadata": {},
          "output_type": "execute_result"
        }
      ],
      "source": [
        "from sklearn.preprocessing import MinMaxScaler\n",
        "scaler = MinMaxScaler(feature_range=(0,1))\n",
        "scaled_data = scaler.fit_transform(dataset)\n",
        "scaled_data"
      ]
    },
    {
      "cell_type": "code",
      "execution_count": 169,
      "metadata": {
        "colab": {
          "base_uri": "https://localhost:8080/"
        },
        "id": "F9BDCrPQXrO_",
        "outputId": "74c685fa-5e1e-4ac3-924b-39c271c8902d"
      },
      "outputs": [
        {
          "name": "stdout",
          "output_type": "stream",
          "text": [
            "[array([0.        , 0.12525678, 0.05845316])]\n",
            "[0.27566511348263933]\n",
            "\n"
          ]
        }
      ],
      "source": [
        "train_data = scaled_data[0:training_data_len , :]\n",
        "x_train = []\n",
        "y_train = []\n",
        "\n",
        "for i in range(3, len(train_data)):\n",
        "  x_train.append(train_data[i-3:i, 0])\n",
        "  y_train.append(train_data[i, 0])\n",
        "  if i<= 3:\n",
        "    print(x_train)\n",
        "    print(y_train)\n",
        "    print()"
      ]
    },
    {
      "cell_type": "code",
      "execution_count": 170,
      "metadata": {
        "id": "ZUvyzW3SYr1A"
      },
      "outputs": [],
      "source": [
        "x_train, y_train = np.array(x_train), np.array(y_train)"
      ]
    },
    {
      "cell_type": "code",
      "execution_count": 171,
      "metadata": {
        "colab": {
          "base_uri": "https://localhost:8080/"
        },
        "id": "txB4zNr-ZtBi",
        "outputId": "d5296bad-e102-46a4-e01d-9580eb5221b1"
      },
      "outputs": [
        {
          "data": {
            "text/plain": [
              "(8, 3)"
            ]
          },
          "execution_count": 171,
          "metadata": {},
          "output_type": "execute_result"
        }
      ],
      "source": [
        "x_train.shape"
      ]
    },
    {
      "cell_type": "code",
      "execution_count": 172,
      "metadata": {
        "colab": {
          "base_uri": "https://localhost:8080/"
        },
        "id": "iWcDiE7dZ0Zs",
        "outputId": "f0408af8-2198-4696-8669-599aacc3360b"
      },
      "outputs": [
        {
          "data": {
            "text/plain": [
              "(8, 3, 1)"
            ]
          },
          "execution_count": 172,
          "metadata": {},
          "output_type": "execute_result"
        }
      ],
      "source": [
        "# Reshape the data\n",
        "x_train = np.reshape(x_train, (x_train.shape[0], x_train.shape[1], 1))\n",
        "x_train.shape"
      ]
    },
    {
      "cell_type": "code",
      "execution_count": 173,
      "metadata": {
        "id": "oPPZpTeUa_ow"
      },
      "outputs": [],
      "source": [
        "from keras.models import Sequential\n",
        "from keras.layers import Dense\n",
        "from keras.layers import LSTM"
      ]
    },
    {
      "cell_type": "code",
      "execution_count": 174,
      "metadata": {
        "id": "Gyh176hZaljf"
      },
      "outputs": [],
      "source": [
        "model = Sequential()\n",
        "model.add(LSTM(50, return_sequences=True, input_shape = (x_train.shape[1], 1)))\n",
        "model.add(LSTM(50, return_sequences=False))\n",
        "model.add(Dense(25))\n",
        "model.add(Dense(1))"
      ]
    },
    {
      "cell_type": "code",
      "execution_count": 175,
      "metadata": {
        "id": "R5pXvGaSbx3N"
      },
      "outputs": [],
      "source": [
        "model.compile(optimizer='adam', loss= 'mean_squared_error')"
      ]
    },
    {
      "cell_type": "code",
      "execution_count": 176,
      "metadata": {
        "colab": {
          "base_uri": "https://localhost:8080/"
        },
        "id": "ld8n6NEStyTl",
        "outputId": "604e2675-ddb6-4e1d-b758-36c52781a72f"
      },
      "outputs": [
        {
          "name": "stdout",
          "output_type": "stream",
          "text": [
            "Model: \"sequential_6\"\n",
            "_________________________________________________________________\n",
            " Layer (type)                Output Shape              Param #   \n",
            "=================================================================\n",
            " lstm_12 (LSTM)              (None, 3, 50)             10400     \n",
            "                                                                 \n",
            " lstm_13 (LSTM)              (None, 50)                20200     \n",
            "                                                                 \n",
            " dense_12 (Dense)            (None, 25)                1275      \n",
            "                                                                 \n",
            " dense_13 (Dense)            (None, 1)                 26        \n",
            "                                                                 \n",
            "=================================================================\n",
            "Total params: 31,901\n",
            "Trainable params: 31,901\n",
            "Non-trainable params: 0\n",
            "_________________________________________________________________\n"
          ]
        }
      ],
      "source": [
        "model.summary()"
      ]
    },
    {
      "cell_type": "code",
      "execution_count": 177,
      "metadata": {
        "colab": {
          "base_uri": "https://localhost:8080/"
        },
        "id": "eErdJuZYcGom",
        "outputId": "12d5988c-5e28-4c1d-ba75-4416521fdb04"
      },
      "outputs": [
        {
          "name": "stdout",
          "output_type": "stream",
          "text": [
            "Epoch 1/4\n",
            "8/8 [==============================] - 15s 18ms/step - loss: 0.0459\n",
            "Epoch 2/4\n",
            "8/8 [==============================] - 0s 13ms/step - loss: 0.0198\n",
            "Epoch 3/4\n",
            "8/8 [==============================] - 0s 12ms/step - loss: 0.0126\n",
            "Epoch 4/4\n",
            "8/8 [==============================] - 0s 13ms/step - loss: 0.0143\n"
          ]
        },
        {
          "data": {
            "text/plain": [
              "<keras.callbacks.History at 0x185939cd5a0>"
            ]
          },
          "execution_count": 177,
          "metadata": {},
          "output_type": "execute_result"
        }
      ],
      "source": [
        "model.fit(x_train, y_train, batch_size=1, epochs=4)"
      ]
    },
    {
      "cell_type": "code",
      "execution_count": 178,
      "metadata": {
        "id": "4c6pC32jcWO6"
      },
      "outputs": [],
      "source": [
        "test_data = scaled_data[training_data_len -3: , :]\n",
        "x_test = []\n",
        "y_test = dataset[training_data_len:, :]\n",
        "for i in range(3, len(test_data)):\n",
        "  x_test.append(test_data[i -3:i, 0])"
      ]
    },
    {
      "cell_type": "code",
      "execution_count": 179,
      "metadata": {
        "id": "aWn-XUtUdRDp"
      },
      "outputs": [],
      "source": [
        "x_test = np.array(x_test)"
      ]
    },
    {
      "cell_type": "code",
      "execution_count": 180,
      "metadata": {
        "colab": {
          "base_uri": "https://localhost:8080/"
        },
        "id": "v7-Oto8BeQPf",
        "outputId": "bec2e536-3e5e-4482-9453-dc1dd7ed3238"
      },
      "outputs": [
        {
          "data": {
            "text/plain": [
              "(4, 3)"
            ]
          },
          "execution_count": 180,
          "metadata": {},
          "output_type": "execute_result"
        }
      ],
      "source": [
        "x_test.shape"
      ]
    },
    {
      "cell_type": "code",
      "execution_count": 181,
      "metadata": {
        "id": "_7rVHlI_dWRX"
      },
      "outputs": [],
      "source": [
        "x_test = np.reshape(x_test, (x_test.shape[0], x_test.shape[1], 1))"
      ]
    },
    {
      "cell_type": "code",
      "execution_count": 182,
      "metadata": {
        "id": "Yh-oFOxCeHxE"
      },
      "outputs": [
        {
          "name": "stdout",
          "output_type": "stream",
          "text": [
            "1/1 [==============================] - 2s 2s/step\n"
          ]
        }
      ],
      "source": [
        "predictions = model.predict(x_test)\n",
        "predictions = scaler.inverse_transform(predictions)"
      ]
    },
    {
      "cell_type": "code",
      "execution_count": 183,
      "metadata": {
        "colab": {
          "base_uri": "https://localhost:8080/"
        },
        "id": "GzjIWcrDfELx",
        "outputId": "b3759a26-c68e-477b-e347-cd460a110ab6"
      },
      "outputs": [
        {
          "data": {
            "text/plain": [
              "263943.0"
            ]
          },
          "execution_count": 183,
          "metadata": {},
          "output_type": "execute_result"
        }
      ],
      "source": [
        "rmse = np.sqrt( np.mean( predictions - y_test )**2 )\n",
        "rmse"
      ]
    },
    {
      "cell_type": "code",
      "execution_count": 184,
      "metadata": {
        "colab": {
          "base_uri": "https://localhost:8080/",
          "height": 560
        },
        "id": "LI_6Ua_AfSR9",
        "outputId": "76faaaa5-ab91-43af-e51e-fecd28604408"
      },
      "outputs": [
        {
          "name": "stderr",
          "output_type": "stream",
          "text": [
            "C:\\Users\\yakul\\AppData\\Local\\Temp\\ipykernel_11724\\2875159218.py:3: SettingWithCopyWarning: \n",
            "A value is trying to be set on a copy of a slice from a DataFrame.\n",
            "Try using .loc[row_indexer,col_indexer] = value instead\n",
            "\n",
            "See the caveats in the documentation: https://pandas.pydata.org/pandas-docs/stable/user_guide/indexing.html#returning-a-view-versus-a-copy\n",
            "  prediction['Predictions'] = predictions\n"
          ]
        },
        {
          "data": {
            "image/png": "[encoded data removed]",
            "text/plain": [
              "<Figure size 864x432 with 1 Axes>"
            ]
          },
          "metadata": {
            "needs_background": "light"
          },
          "output_type": "display_data"
        }
      ],
      "source": [
        "train = data[:training_data_len]\n",
        "prediction = data[training_data_len:]\n",
        "prediction['Predictions'] = predictions\n",
        "plt.figure(figsize=(12,6))\n",
        "plt.title('Sale Price History')\n",
        "plt.plot(data)\n",
        "plt.xlabel('Date', fontsize = 12)\n",
        "plt.ylabel('Sale Price PESO(₱)', fontsize = 12)\n",
        "plt.plot(train['Sale'])\n",
        "plt.plot(prediction[[ 'Predictions']])\n",
        "plt.legend(['TEST','TRAIN','PREDICTION'], loc = 'upper left')\n",
        "plt.show()\n"
      ]
    },
    {
      "cell_type": "code",
      "execution_count": 186,
      "metadata": {},
      "outputs": [
        {
          "name": "stdout",
          "output_type": "stream",
          "text": [
            "1/1 [==============================] - 0s 36ms/step\n",
            "[[1682353.4]]\n"
          ]
        }
      ],
      "source": [
        "year = pd.read_csv('C:/Users/yakul/mutipage/data/year.csv')\n",
        "newdf = year.filter(['Sale'])\n",
        "last_3_years = newdf[-3:].values\n",
        "last_3_years_scaled = scaler.transform(last_3_years)\n",
        "X_test = [] \n",
        "X_test.append(last_3_years)\n",
        "X_test = np.array(X_test)\n",
        "X_test = np.reshape(X_test, (X_test.shape[0], X_test.shape[1], 1))\n",
        "pred_sale = model.predict(X_test)\n",
        "pred_sale = scaler.inverse_transform(pred_sale)\n",
        "print(pred_sale)"
      ]
    },
    {
      "cell_type": "code",
      "execution_count": null,
      "metadata": {},
      "outputs": [],
      "source": []
    }
  ],
  "metadata": {
    "colab": {
      "name": "yearcs.ipynb",
      "provenance": []
    },
    "kernelspec": {
      "display_name": "Python 3",
      "name": "python3"
    },
    "language_info": {
      "codemirror_mode": {
        "name": "ipython",
        "version": 3
      },
      "file_extension": ".py",
      "mimetype": "text/x-python",
      "name": "python",
      "nbconvert_exporter": "python",
      "pygments_lexer": "ipython3",
      "version": "3.10.2"
    }
  },
  "nbformat": 4,
  "nbformat_minor": 0
}
